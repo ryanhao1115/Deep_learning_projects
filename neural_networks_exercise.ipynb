{
 "cells": [
  {
   "cell_type": "markdown",
   "metadata": {},
   "source": [
    "## Practicing Neural Networks with the fashion MNIST dataset\n",
    "---------------------------------"
   ]
  },
  {
   "cell_type": "markdown",
   "metadata": {},
   "source": [
    "### Loading the fashion MNIST data \n",
    "The data can be loaded directly from keras (`keras.datasets.fashion_mnist`).\n",
    "\n",
    "```python\n",
    "fashion_mnist = keras.datasets.fashion_mnist\n",
    "(train_images, train_labels), (test_images, test_labels) = fashion_mnist.load_data()\n",
    "# returns 4 numpy arrays: 2 training sets and 2 test sets\n",
    "# images: 28x28 arrays, pixel values: 0 to 255\n",
    "# labels: array of integers: 0 to 9 => class of clothings\n",
    "# Training set: 60,000 images, Testing set: 10,000 images\n",
    "\n",
    "# class names are not included, need to create them to plot the images  \n",
    "class_names = ['T-shirt/top', 'Trouser', 'Pullover', 'Dress', 'Coat', 'Sandal', 'Shirt', 'Sneaker', 'Bag', 'Ankle boot']\n",
    "```"
   ]
  },
  {
   "cell_type": "code",
   "execution_count": 48,
   "metadata": {},
   "outputs": [],
   "source": [
    "from tensorflow.keras.datasets import fashion_mnist\n",
    "from tensorflow.keras import models\n",
    "from tensorflow.keras import layers\n",
    "from tensorflow.keras.utils import to_categorical\n",
    "import numpy as np\n",
    "import matplotlib.pyplot as plt"
   ]
  },
  {
   "cell_type": "code",
   "execution_count": 3,
   "metadata": {},
   "outputs": [],
   "source": [
    "# class names are not included, need to create them to plot the images  \n",
    "class_names = ['T-shirt/top', 'Trouser', 'Pullover', 'Dress', 'Coat', 'Sandal', 'Shirt', 'Sneaker', 'Bag', 'Ankle boot']"
   ]
  },
  {
   "cell_type": "code",
   "execution_count": 49,
   "metadata": {},
   "outputs": [],
   "source": [
    "(train_images, train_labels), (test_images, test_labels) = fashion_mnist.load_data()"
   ]
  },
  {
   "cell_type": "code",
   "execution_count": 50,
   "metadata": {},
   "outputs": [
    {
     "data": {
      "text/plain": [
       "(60000, 28, 28)"
      ]
     },
     "execution_count": 50,
     "metadata": {},
     "output_type": "execute_result"
    }
   ],
   "source": [
    "train_images.shape"
   ]
  },
  {
   "cell_type": "code",
   "execution_count": 53,
   "metadata": {},
   "outputs": [
    {
     "data": {
      "text/plain": [
       "2"
      ]
     },
     "execution_count": 53,
     "metadata": {},
     "output_type": "execute_result"
    }
   ],
   "source": [
    "test_labels[1]"
   ]
  },
  {
   "cell_type": "code",
   "execution_count": 35,
   "metadata": {},
   "outputs": [
    {
     "data": {
      "text/plain": [
       "array([0, 1, 2, 3, 4, 5, 6, 7, 8, 9], dtype=uint8)"
      ]
     },
     "execution_count": 35,
     "metadata": {},
     "output_type": "execute_result"
    }
   ],
   "source": [
    "np.unique(train_labels)"
   ]
  },
  {
   "cell_type": "markdown",
   "metadata": {},
   "source": [
    "-------------------\n",
    "### Data Exploration\n",
    "\n",
    "- **Task 1:** Explore the pictures and labels. \n",
    "    - Try displaying a picture of each class in jupyter.\n",
    "    \n",
    "    \n",
    "- **Task 2:** Normalize the data to be between 0 and 1. \n",
    "    - Write down in a new markdown cell, **why** should we do this?"
   ]
  },
  {
   "cell_type": "code",
   "execution_count": 20,
   "metadata": {},
   "outputs": [
    {
     "data": {
      "image/png": "[encoded data removed]",
      "text/plain": [
       "<Figure size 432x288 with 2 Axes>"
      ]
     },
     "metadata": {
      "needs_background": "light"
     },
     "output_type": "display_data"
    }
   ],
   "source": [
    "plt.figure()\n",
    "plt.imshow(train_images[100])\n",
    "plt.colorbar()\n",
    "plt.grid(False)\n",
    "plt.show()"
   ]
  },
  {
   "cell_type": "code",
   "execution_count": 36,
   "metadata": {},
   "outputs": [],
   "source": [
    "train_images = train_images.reshape((60000, 28 * 28))\n",
    "train_images = train_images.astype('float32') / 255\n",
    "test_images = test_images.reshape((10000, 28 * 28))\n",
    "test_images = test_images.astype('float32') / 255"
   ]
  },
  {
   "cell_type": "code",
   "execution_count": null,
   "metadata": {},
   "outputs": [],
   "source": []
  },
  {
   "cell_type": "code",
   "execution_count": 37,
   "metadata": {},
   "outputs": [
    {
     "data": {
      "text/plain": [
       "(60000, 784)"
      ]
     },
     "execution_count": 37,
     "metadata": {},
     "output_type": "execute_result"
    }
   ],
   "source": [
    "train_images.shape"
   ]
  },
  {
   "cell_type": "code",
   "execution_count": null,
   "metadata": {},
   "outputs": [],
   "source": []
  },
  {
   "cell_type": "code",
   "execution_count": null,
   "metadata": {},
   "outputs": [],
   "source": []
  },
  {
   "cell_type": "markdown",
   "metadata": {},
   "source": [
    "----------------------\n",
    "### Training NN model \n",
    "\n",
    "Step 1  -  Build the architecture\n",
    "\n",
    "Step 2  -  Compile the model \n",
    "\n",
    "Step 3  -  Train the model\n",
    "\n",
    "Step 4  -  Evaluate the model "
   ]
  },
  {
   "cell_type": "code",
   "execution_count": 38,
   "metadata": {},
   "outputs": [],
   "source": [
    "network = models.Sequential()\n",
    "network.add(layers.Dense(784, activation='relu', input_shape=(28 * 28,)))\n",
    "network.add(layers.Dense(784, activation='relu', input_shape=(28 * 28,)))\n",
    "network.add(layers.Dense(10, activation='softmax'))"
   ]
  },
  {
   "cell_type": "code",
   "execution_count": 39,
   "metadata": {},
   "outputs": [],
   "source": [
    "network.compile(optimizer='adam',\n",
    "                loss='categorical_crossentropy',\n",
    "                metrics=['accuracy'])"
   ]
  },
  {
   "cell_type": "code",
   "execution_count": 40,
   "metadata": {},
   "outputs": [],
   "source": [
    "train_labels = to_categorical(train_labels)\n",
    "test_labels = to_categorical(test_labels)"
   ]
  },
  {
   "cell_type": "code",
   "execution_count": 47,
   "metadata": {},
   "outputs": [
    {
     "data": {
      "text/plain": [
       "array([1., 0., 0., 0., 0., 0., 0., 0., 0., 0.], dtype=float32)"
      ]
     },
     "execution_count": 47,
     "metadata": {},
     "output_type": "execute_result"
    }
   ],
   "source": [
    "train_labels[1]"
   ]
  },
  {
   "cell_type": "code",
   "execution_count": 42,
   "metadata": {},
   "outputs": [
    {
     "name": "stdout",
     "output_type": "stream",
     "text": [
      "Epoch 1/20\n",
      "300/300 [==============================] - 6s 20ms/step - loss: 0.2369 - accuracy: 0.9102\n",
      "Epoch 2/20\n",
      "300/300 [==============================] - 6s 21ms/step - loss: 0.2257 - accuracy: 0.9148\n",
      "Epoch 3/20\n",
      "300/300 [==============================] - 6s 21ms/step - loss: 0.2156 - accuracy: 0.9183\n",
      "Epoch 4/20\n",
      "300/300 [==============================] - 6s 21ms/step - loss: 0.2083 - accuracy: 0.9210\n",
      "Epoch 5/20\n",
      "300/300 [==============================] - 6s 19ms/step - loss: 0.2020 - accuracy: 0.9241\n",
      "Epoch 6/20\n",
      "300/300 [==============================] - 6s 20ms/step - loss: 0.1900 - accuracy: 0.9277\n",
      "Epoch 7/20\n",
      "300/300 [==============================] - 6s 20ms/step - loss: 0.1855 - accuracy: 0.9282\n",
      "Epoch 8/20\n",
      "300/300 [==============================] - 6s 19ms/step - loss: 0.1748 - accuracy: 0.9323\n",
      "Epoch 9/20\n",
      "300/300 [==============================] - 6s 20ms/step - loss: 0.1705 - accuracy: 0.9349\n",
      "Epoch 10/20\n",
      "300/300 [==============================] - 6s 20ms/step - loss: 0.1625 - accuracy: 0.9387\n",
      "Epoch 11/20\n",
      "300/300 [==============================] - 6s 19ms/step - loss: 0.1546 - accuracy: 0.9403\n",
      "Epoch 12/20\n",
      "300/300 [==============================] - 6s 20ms/step - loss: 0.1484 - accuracy: 0.9437\n",
      "Epoch 13/20\n",
      "300/300 [==============================] - 6s 20ms/step - loss: 0.1437 - accuracy: 0.9447\n",
      "Epoch 14/20\n",
      "300/300 [==============================] - 6s 20ms/step - loss: 0.1356 - accuracy: 0.9475\n",
      "Epoch 15/20\n",
      "300/300 [==============================] - 6s 21ms/step - loss: 0.1308 - accuracy: 0.9494\n",
      "Epoch 16/20\n",
      "300/300 [==============================] - 6s 20ms/step - loss: 0.1283 - accuracy: 0.9508\n",
      "Epoch 17/20\n",
      "300/300 [==============================] - 6s 21ms/step - loss: 0.1233 - accuracy: 0.9524\n",
      "Epoch 18/20\n",
      "300/300 [==============================] - 6s 21ms/step - loss: 0.1185 - accuracy: 0.9540\n",
      "Epoch 19/20\n",
      "300/300 [==============================] - 6s 20ms/step - loss: 0.1101 - accuracy: 0.9575\n",
      "Epoch 20/20\n",
      "300/300 [==============================] - 6s 22ms/step - loss: 0.1034 - accuracy: 0.9607\n"
     ]
    },
    {
     "data": {
      "text/plain": [
       "<tensorflow.python.keras.callbacks.History at 0x286ced5f910>"
      ]
     },
     "execution_count": 42,
     "metadata": {},
     "output_type": "execute_result"
    }
   ],
   "source": [
    "network.fit(train_images, train_labels, epochs=20, batch_size=200)"
   ]
  },
  {
   "cell_type": "code",
   "execution_count": 43,
   "metadata": {},
   "outputs": [],
   "source": [
    "### 第二种写法， Sequential有点像pipeline 一样，写成steps的形式"
   ]
  },
  {
   "cell_type": "code",
   "execution_count": 44,
   "metadata": {},
   "outputs": [
    {
     "name": "stdout",
     "output_type": "stream",
     "text": [
      "2.3.0\n"
     ]
    }
   ],
   "source": [
    "# TensorFlow and tf.keras\n",
    "import tensorflow as tf\n",
    "\n",
    "print(tf.__version__)"
   ]
  },
  {
   "cell_type": "code",
   "execution_count": 54,
   "metadata": {},
   "outputs": [],
   "source": [
    "train_images = train_images / 255.0\n",
    "\n",
    "test_images = test_images / 255.0"
   ]
  },
  {
   "cell_type": "code",
   "execution_count": 67,
   "metadata": {},
   "outputs": [],
   "source": [
    "model = tf.keras.Sequential([\n",
    "    tf.keras.layers.Flatten(input_shape=(28, 28)),\n",
    "    tf.keras.layers.Dense(128, activation='relu'),\n",
    "    tf.keras.layers.Dense(10,activation='softmax')\n",
    "])"
   ]
  },
  {
   "cell_type": "code",
   "execution_count": 68,
   "metadata": {},
   "outputs": [],
   "source": [
    "model.compile(optimizer='adam',\n",
    "              loss=tf.keras.losses.SparseCategoricalCrossentropy(from_logits=True),\n",
    "              metrics=['accuracy'])"
   ]
  },
  {
   "cell_type": "code",
   "execution_count": 69,
   "metadata": {},
   "outputs": [
    {
     "name": "stdout",
     "output_type": "stream",
     "text": [
      "Epoch 1/10\n",
      "1875/1875 [==============================] - 3s 1ms/step - loss: 1.6669 - accuracy: 0.8035\n",
      "Epoch 2/10\n",
      "1875/1875 [==============================] - 3s 2ms/step - loss: 1.6192 - accuracy: 0.8449\n",
      "Epoch 3/10\n",
      "1875/1875 [==============================] - 3s 1ms/step - loss: 1.6078 - accuracy: 0.8549\n",
      "Epoch 4/10\n",
      "1875/1875 [==============================] - 3s 1ms/step - loss: 1.5993 - accuracy: 0.8631\n",
      "Epoch 5/10\n",
      "1875/1875 [==============================] - 4s 2ms/step - loss: 1.5929 - accuracy: 0.8692\n",
      "Epoch 6/10\n",
      "1875/1875 [==============================] - 4s 2ms/step - loss: 1.5894 - accuracy: 0.8726\n",
      "Epoch 7/10\n",
      "1875/1875 [==============================] - 4s 2ms/step - loss: 1.5853 - accuracy: 0.8760\n",
      "Epoch 8/10\n",
      "1875/1875 [==============================] - 3s 2ms/step - loss: 1.5820 - accuracy: 0.8801\n",
      "Epoch 9/10\n",
      "1875/1875 [==============================] - 3s 2ms/step - loss: 1.5791 - accuracy: 0.8827\n",
      "Epoch 10/10\n",
      "1875/1875 [==============================] - 3s 2ms/step - loss: 1.5780 - accuracy: 0.8834\n"
     ]
    },
    {
     "data": {
      "text/plain": [
       "<tensorflow.python.keras.callbacks.History at 0x286cef0b400>"
      ]
     },
     "execution_count": 69,
     "metadata": {},
     "output_type": "execute_result"
    }
   ],
   "source": [
    "model.fit(train_images, train_labels, epochs=10)"
   ]
  },
  {
   "cell_type": "code",
   "execution_count": 58,
   "metadata": {},
   "outputs": [
    {
     "name": "stdout",
     "output_type": "stream",
     "text": [
      "313/313 - 0s - loss: 0.3501 - accuracy: 0.8794\n",
      "\n",
      "Test accuracy: 0.8794000148773193\n"
     ]
    }
   ],
   "source": [
    "test_loss, test_acc = model.evaluate(test_images,  test_labels, verbose=2)\n",
    "\n",
    "print('\\nTest accuracy:', test_acc)"
   ]
  },
  {
   "cell_type": "code",
   "execution_count": 66,
   "metadata": {},
   "outputs": [
    {
     "data": {
      "text/plain": [
       "array([9, 2], dtype=uint8)"
      ]
     },
     "execution_count": 66,
     "metadata": {},
     "output_type": "execute_result"
    }
   ],
   "source": [
    "test_labels[:2]"
   ]
  },
  {
   "cell_type": "code",
   "execution_count": 65,
   "metadata": {},
   "outputs": [
    {
     "data": {
      "text/plain": [
       "array([[-12.33772   , -15.207123  , -11.221917  , -19.349342  ,\n",
       "        -12.366796  ,  -5.427712  , -10.708858  ,  -0.62624156,\n",
       "         -9.345884  ,   6.473755  ],\n",
       "       [ -0.28191337, -22.69294   ,   9.349146  ,  -9.885704  ,\n",
       "          1.8426828 , -22.814768  ,   2.061512  , -38.343197  ,\n",
       "        -12.8969965 , -19.701488  ]], dtype=float32)"
      ]
     },
     "execution_count": 65,
     "metadata": {},
     "output_type": "execute_result"
    }
   ],
   "source": [
    "model.predict(test_images[:2])"
   ]
  }
 ],
 "metadata": {
  "kernelspec": {
   "display_name": "Python 3 (ipykernel)",
   "language": "python",
   "name": "python3"
  },
  "language_info": {
   "codemirror_mode": {
    "name": "ipython",
    "version": 3
   },
   "file_extension": ".py",
   "mimetype": "text/x-python",
   "name": "python",
   "nbconvert_exporter": "python",
   "pygments_lexer": "ipython3",
   "version": "3.8.10"
  }
 },
 "nbformat": 4,
 "nbformat_minor": 4
}
